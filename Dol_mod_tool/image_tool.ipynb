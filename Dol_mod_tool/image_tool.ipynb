{
 "cells": [
  {
   "cell_type": "code",
   "execution_count": 2,
   "metadata": {},
   "outputs": [],
   "source": [
    "import cv2\n",
    "import numpy as np\n",
    "\n",
    "# 讀取圖片\n",
    "def shift_image(img, x, y):\n",
    "    image = cv2.imread(img, cv2.IMREAD_UNCHANGED)  # 保持圖片透明度\n",
    "\n",
    "    # 取得圖片的寬度和高度\n",
    "    height, width = image.shape[:2]\n",
    "\n",
    "    # 指定要平移的區域\n",
    "    start_x_1 = 150\n",
    "    end_x_1 = 256\n",
    "\n",
    "    start_x_2 = 406\n",
    "    end_x_2 = 512\n",
    "\n",
    "    # 將圖片分成四個區域\n",
    "    left_part = image[:, :start_x_1]\n",
    "    shift_part_1 = image[:, start_x_1:end_x_1]\n",
    "    middle_part = image[:, end_x_1:start_x_2]\n",
    "    shift_part_2 = image[:, start_x_2:end_x_2]\n",
    "\n",
    "    # 對指定區域進行平移\n",
    "    M1 = np.float32([[1, 0, x], [0, 1, y]])  # 平移矩陣1\n",
    "    shifted_part_1 = cv2.warpAffine(shift_part_1, M1, (end_x_1 - start_x_1, height))\n",
    "    if width > 300:\n",
    "        M2 = np.float32([[1, 0, x], [0, 1, y]])  # 平移矩陣2\n",
    "        shifted_part_2 = cv2.warpAffine(shift_part_2, M2, (end_x_2 - start_x_2, height))\n",
    "\n",
    "    # 合併四個區域\n",
    "    if width > 300:\n",
    "        result = np.hstack((left_part, shifted_part_1, middle_part, shifted_part_2))\n",
    "    else:\n",
    "        result = np.hstack((left_part, shifted_part_1))\n",
    "    # 存儲處理後的圖片\n",
    "    cv2.imwrite(img, result, [int(cv2.IMWRITE_PNG_COMPRESSION), 9])  # 控制 PNG 壓縮\n",
    "\n",
    "# 測試\n"
   ]
  },
  {
   "cell_type": "code",
   "execution_count": 8,
   "metadata": {},
   "outputs": [],
   "source": [
    "import os\n",
    "dir = r\"D:\\My data\\Documents\\GitHub\\DOL-MODS\\BJ_Extend\\img\\face\\default\\BE_eyes_1\"\n",
    "for i in [i for i in os.listdir(dir) if i.endswith('.png')]:\n",
    "    shift_image(os.path.join(dir,i),0,2)"
   ]
  }
 ],
 "metadata": {
  "kernelspec": {
   "display_name": "Python 3",
   "language": "python",
   "name": "python3"
  },
  "language_info": {
   "codemirror_mode": {
    "name": "ipython",
    "version": 3
   },
   "file_extension": ".py",
   "mimetype": "text/x-python",
   "name": "python",
   "nbconvert_exporter": "python",
   "pygments_lexer": "ipython3",
   "version": "3.11.9"
  },
  "orig_nbformat": 4
 },
 "nbformat": 4,
 "nbformat_minor": 2
}
